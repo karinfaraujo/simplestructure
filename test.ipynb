{
 "cells": [
  {
   "cell_type": "code",
   "execution_count": 1,
   "id": "5d7ad4a1-84dc-4ac7-9db8-b6ddd8bdb5bb",
   "metadata": {},
   "outputs": [
    {
     "name": "stdout",
     "output_type": "stream",
     "text": [
      "Requirement already satisfied: simplestructure in c:\\users\\karin\\appdata\\local\\programs\\python\\python312\\lib\\site-packages (0.0.1)\n",
      "Note: you may need to restart the kernel to use updated packages.\n"
     ]
    }
   ],
   "source": [
    "pip install simplestructure"
   ]
  },
  {
   "cell_type": "code",
   "execution_count": 2,
   "id": "846c526a-73ed-4d5d-9a6a-647c4ec9eb75",
   "metadata": {},
   "outputs": [
    {
     "ename": "ModuleNotFoundError",
     "evalue": "No module named 'simplestructure'",
     "output_type": "error",
     "traceback": [
      "\u001b[1;31m---------------------------------------------------------------------------\u001b[0m",
      "\u001b[1;31mModuleNotFoundError\u001b[0m                       Traceback (most recent call last)",
      "Cell \u001b[1;32mIn[2], line 1\u001b[0m\n\u001b[1;32m----> 1\u001b[0m \u001b[38;5;28;01mfrom\u001b[39;00m \u001b[38;5;21;01msimplestructure\u001b[39;00m \u001b[38;5;28;01mimport\u001b[39;00m file1_name\n\u001b[0;32m      2\u001b[0m file1_name\u001b[38;5;241m.\u001b[39mmy_function()\n",
      "\u001b[1;31mModuleNotFoundError\u001b[0m: No module named 'simplestructure'"
     ]
    }
   ],
   "source": [
    "from simplestructure import file1_name\n",
    "file1_name.my_function()"
   ]
  },
  {
   "cell_type": "code",
   "execution_count": null,
   "id": "9d906968-2892-4987-a9c8-cfdaf42b0aad",
   "metadata": {},
   "outputs": [],
   "source": []
  }
 ],
 "metadata": {
  "kernelspec": {
   "display_name": "Python 3 (ipykernel)",
   "language": "python",
   "name": "python3"
  },
  "language_info": {
   "codemirror_mode": {
    "name": "ipython",
    "version": 3
   },
   "file_extension": ".py",
   "mimetype": "text/x-python",
   "name": "python",
   "nbconvert_exporter": "python",
   "pygments_lexer": "ipython3",
   "version": "3.12.4"
  }
 },
 "nbformat": 4,
 "nbformat_minor": 5
}
